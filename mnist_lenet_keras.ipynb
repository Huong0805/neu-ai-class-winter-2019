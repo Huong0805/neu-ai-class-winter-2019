{
  "nbformat": 4,
  "nbformat_minor": 0,
  "metadata": {
    "colab": {
      "name": "mnist-lenet-keras.ipynb",
      "provenance": [],
      "collapsed_sections": [],
      "include_colab_link": true
    },
    "kernelspec": {
      "name": "python3",
      "display_name": "Python 3"
    },
    "accelerator": "GPU"
  },
  "cells": [
    {
      "cell_type": "markdown",
      "metadata": {
        "id": "view-in-github",
        "colab_type": "text"
      },
      "source": [
        "<a href=\"https://colab.research.google.com/github/nerophung/neu-ai-class-winter-2019/blob/master/mnist_lenet_keras.ipynb\" target=\"_parent\"><img src=\"https://colab.research.google.com/assets/colab-badge.svg\" alt=\"Open In Colab\"/></a>"
      ]
    },
    {
      "cell_type": "markdown",
      "metadata": {
        "id": "5s0J4uV4K6LQ",
        "colab_type": "text"
      },
      "source": [
        "# **Practice LeNet-5**"
      ]
    },
    {
      "cell_type": "markdown",
      "metadata": {
        "id": "kqFfOOOqLIAM",
        "colab_type": "text"
      },
      "source": [
        "#### Import lib"
      ]
    },
    {
      "cell_type": "code",
      "metadata": {
        "id": "s--v2xsrLOLi",
        "colab_type": "code",
        "colab": {}
      },
      "source": [
        "from __future__ import print_function\n",
        "import keras\n",
        "from keras.datasets import mnist\n",
        "from keras.models import Sequential\n",
        "from keras.layers import Dense, Dropout, Flatten\n",
        "from keras.layers import Conv2D, MaxPooling2D, AvgPool2D\n",
        "from keras import backend as K\n"
      ],
      "execution_count": 0,
      "outputs": []
    },
    {
      "cell_type": "markdown",
      "metadata": {
        "id": "lgB9uWi6Lq-Q",
        "colab_type": "text"
      },
      "source": [
        "#### Build model"
      ]
    },
    {
      "cell_type": "code",
      "metadata": {
        "id": "RCm_M-lwLt1C",
        "colab_type": "code",
        "colab": {}
      },
      "source": [
        "def LeNet5(input_shape, num_classes):\n",
        "  model = Sequential()\n",
        "  model.add(Conv2D(6, kernel_size=(5, 5), activation='sigmoid', input_shape=input_shape))\n",
        "  model.add(AvgPool2D(pool_size=2, strides=2))\n",
        "  model.add(Conv2D(16, kernel_size=(5, 5), activation='sigmoid'))\n",
        "  model.add(AvgPool2D(pool_size=2, strides=2))\n",
        "  model.add(Flatten())\n",
        "  model.add(Dense(120, activation='sigmoid'))\n",
        "  model.add(Dense(84, activation='sigmoid'))\n",
        "  model.add(Dense(num_classes, activation='softmax'))\n",
        "\n",
        "  # Summary model\n",
        "  model.summary()\n",
        "\n",
        "  return model"
      ],
      "execution_count": 0,
      "outputs": []
    },
    {
      "cell_type": "markdown",
      "metadata": {
        "id": "7khH9S7BLUg4",
        "colab_type": "text"
      },
      "source": [
        "#### Load data"
      ]
    },
    {
      "cell_type": "code",
      "metadata": {
        "colab_type": "code",
        "outputId": "0a29c67d-fe96-42d2-e864-69f13e14dad1",
        "id": "rguEYfo5LQ04",
        "colab": {
          "base_uri": "https://localhost:8080/",
          "height": 66
        }
      },
      "source": [
        "num_classes = 10\n",
        "\n",
        "# input image dimensions\n",
        "img_rows, img_cols = 28, 28\n",
        "\n",
        "# the data, split between train and test sets\n",
        "(x_train, y_train), (x_test, y_test) = mnist.load_data()\n",
        "\n",
        "if K.image_data_format() == 'channels_first':\n",
        "    x_train = x_train.reshape(x_train.shape[0], 1, img_rows, img_cols)\n",
        "    x_test = x_test.reshape(x_test.shape[0], 1, img_rows, img_cols)\n",
        "    input_shape = (1, img_rows, img_cols)\n",
        "else:\n",
        "    x_train = x_train.reshape(x_train.shape[0], img_rows, img_cols, 1)\n",
        "    x_test = x_test.reshape(x_test.shape[0], img_rows, img_cols, 1)\n",
        "    input_shape = (img_rows, img_cols, 1)\n",
        "\n",
        "x_train = x_train.astype('float32')\n",
        "x_test = x_test.astype('float32')\n",
        "x_train /= 255\n",
        "x_test /= 255\n",
        "print('x_train shape:', x_train.shape)\n",
        "print(x_train.shape[0], 'train samples')\n",
        "print(x_test.shape[0], 'test samples')\n",
        "\n",
        "# convert class vectors to binary class matrices\n",
        "y_train = keras.utils.to_categorical(y_train, num_classes)\n",
        "y_test = keras.utils.to_categorical(y_test, num_classes)"
      ],
      "execution_count": 20,
      "outputs": [
        {
          "output_type": "stream",
          "text": [
            "x_train shape: (60000, 28, 28, 1)\n",
            "60000 train samples\n",
            "10000 test samples\n"
          ],
          "name": "stdout"
        }
      ]
    },
    {
      "cell_type": "markdown",
      "metadata": {
        "id": "La_YKx60LH8z",
        "colab_type": "text"
      },
      "source": [
        "#### Load model"
      ]
    },
    {
      "cell_type": "code",
      "metadata": {
        "id": "PpCHLT5EMM5j",
        "colab_type": "code",
        "colab": {
          "base_uri": "https://localhost:8080/",
          "height": 416
        },
        "outputId": "dbd46d44-fe8b-4212-f671-299b5f95f19f"
      },
      "source": [
        "model = LeNet5(input_shape, num_classes)"
      ],
      "execution_count": 25,
      "outputs": [
        {
          "output_type": "stream",
          "text": [
            "Model: \"sequential_16\"\n",
            "_________________________________________________________________\n",
            "Layer (type)                 Output Shape              Param #   \n",
            "=================================================================\n",
            "conv2d_29 (Conv2D)           (None, 24, 24, 6)         156       \n",
            "_________________________________________________________________\n",
            "average_pooling2d_25 (Averag (None, 12, 12, 6)         0         \n",
            "_________________________________________________________________\n",
            "conv2d_30 (Conv2D)           (None, 8, 8, 16)          2416      \n",
            "_________________________________________________________________\n",
            "average_pooling2d_26 (Averag (None, 4, 4, 16)          0         \n",
            "_________________________________________________________________\n",
            "flatten_14 (Flatten)         (None, 256)               0         \n",
            "_________________________________________________________________\n",
            "dense_39 (Dense)             (None, 120)               30840     \n",
            "_________________________________________________________________\n",
            "dense_40 (Dense)             (None, 84)                10164     \n",
            "_________________________________________________________________\n",
            "dense_41 (Dense)             (None, 10)                850       \n",
            "=================================================================\n",
            "Total params: 44,426\n",
            "Trainable params: 44,426\n",
            "Non-trainable params: 0\n",
            "_________________________________________________________________\n"
          ],
          "name": "stdout"
        }
      ]
    },
    {
      "cell_type": "markdown",
      "metadata": {
        "id": "nOXj30XsMU-s",
        "colab_type": "text"
      },
      "source": [
        "#### Training"
      ]
    },
    {
      "cell_type": "code",
      "metadata": {
        "id": "h44F3jrJMWKi",
        "colab_type": "code",
        "colab": {
          "base_uri": "https://localhost:8080/",
          "height": 450
        },
        "outputId": "7990dfe4-d230-4cef-9727-24fd892ecace"
      },
      "source": [
        "model.compile(loss=keras.losses.categorical_crossentropy,\n",
        "              optimizer=keras.optimizers.Adadelta(),\n",
        "              metrics=['accuracy'])\n",
        "\n",
        "epochs = 12\n",
        "batch_size = 128\n",
        "\n",
        "model.fit(x_train, y_train,\n",
        "          batch_size=batch_size,\n",
        "          epochs=epochs,\n",
        "          verbose=1,\n",
        "          validation_data=(x_test, y_test))"
      ],
      "execution_count": 26,
      "outputs": [
        {
          "output_type": "stream",
          "text": [
            "Train on 60000 samples, validate on 10000 samples\n",
            "Epoch 1/12\n",
            "60000/60000 [==============================] - 3s 57us/step - loss: 2.2961 - acc: 0.1239 - val_loss: 2.1465 - val_acc: 0.2935\n",
            "Epoch 2/12\n",
            "60000/60000 [==============================] - 2s 41us/step - loss: 0.9229 - acc: 0.7393 - val_loss: 0.4357 - val_acc: 0.8722\n",
            "Epoch 3/12\n",
            "60000/60000 [==============================] - 2s 40us/step - loss: 0.3586 - acc: 0.8946 - val_loss: 0.2890 - val_acc: 0.9160\n",
            "Epoch 4/12\n",
            "60000/60000 [==============================] - 2s 40us/step - loss: 0.2637 - acc: 0.9198 - val_loss: 0.2261 - val_acc: 0.9328\n",
            "Epoch 5/12\n",
            "60000/60000 [==============================] - 2s 41us/step - loss: 0.2095 - acc: 0.9365 - val_loss: 0.1736 - val_acc: 0.9459\n",
            "Epoch 6/12\n",
            "60000/60000 [==============================] - 2s 40us/step - loss: 0.1728 - acc: 0.9475 - val_loss: 0.1514 - val_acc: 0.9533\n",
            "Epoch 7/12\n",
            "60000/60000 [==============================] - 2s 41us/step - loss: 0.1468 - acc: 0.9556 - val_loss: 0.1309 - val_acc: 0.9594\n",
            "Epoch 8/12\n",
            "60000/60000 [==============================] - 2s 41us/step - loss: 0.1297 - acc: 0.9601 - val_loss: 0.1076 - val_acc: 0.9664\n",
            "Epoch 9/12\n",
            "60000/60000 [==============================] - 3s 42us/step - loss: 0.1153 - acc: 0.9649 - val_loss: 0.1026 - val_acc: 0.9688\n",
            "Epoch 10/12\n",
            "60000/60000 [==============================] - 2s 41us/step - loss: 0.1052 - acc: 0.9678 - val_loss: 0.1061 - val_acc: 0.9671\n",
            "Epoch 11/12\n",
            "60000/60000 [==============================] - 2s 41us/step - loss: 0.0960 - acc: 0.9705 - val_loss: 0.1007 - val_acc: 0.9683\n",
            "Epoch 12/12\n",
            "60000/60000 [==============================] - 3s 42us/step - loss: 0.0882 - acc: 0.9731 - val_loss: 0.0760 - val_acc: 0.9757\n"
          ],
          "name": "stdout"
        },
        {
          "output_type": "execute_result",
          "data": {
            "text/plain": [
              "<keras.callbacks.History at 0x7fd4c5dd1e48>"
            ]
          },
          "metadata": {
            "tags": []
          },
          "execution_count": 26
        }
      ]
    },
    {
      "cell_type": "markdown",
      "metadata": {
        "id": "uXPzWAu2MaXx",
        "colab_type": "text"
      },
      "source": [
        "#### Evaluation"
      ]
    },
    {
      "cell_type": "code",
      "metadata": {
        "id": "rV_xrCeBMbjz",
        "colab_type": "code",
        "colab": {
          "base_uri": "https://localhost:8080/",
          "height": 66
        },
        "outputId": "b0760548-f4ba-4ee1-98ec-a23be23987c4"
      },
      "source": [
        "score = model.evaluate(x_test, y_test, verbose=1)\n",
        "print('Test loss:', score[0])\n",
        "print('Test accuracy:', score[1])"
      ],
      "execution_count": 27,
      "outputs": [
        {
          "output_type": "stream",
          "text": [
            "10000/10000 [==============================] - 0s 50us/step\n",
            "Test loss: 0.07604955981224776\n",
            "Test accuracy: 0.9757\n"
          ],
          "name": "stdout"
        }
      ]
    }
  ]
}