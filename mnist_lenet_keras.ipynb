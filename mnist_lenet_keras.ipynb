{
  "nbformat": 4,
  "nbformat_minor": 0,
  "metadata": {
    "colab": {
      "name": "mnist-lenet-keras.ipynb",
      "provenance": [],
      "collapsed_sections": [],
      "include_colab_link": true
    },
    "kernelspec": {
      "name": "python3",
      "display_name": "Python 3"
    },
    "accelerator": "GPU"
  },
  "cells": [
    {
      "cell_type": "markdown",
      "metadata": {
        "id": "view-in-github",
        "colab_type": "text"
      },
      "source": [
        "<a href=\"https://colab.research.google.com/github/nerophung/neu-ai-class-winter-2019/blob/master/mnist_lenet_keras.ipynb\" target=\"_parent\"><img src=\"https://colab.research.google.com/assets/colab-badge.svg\" alt=\"Open In Colab\"/></a>"
      ]
    },
    {
      "cell_type": "markdown",
      "metadata": {
        "id": "5s0J4uV4K6LQ",
        "colab_type": "text"
      },
      "source": [
        "# **Practice LeNet-5 with MNIST Dataset**"
      ]
    },
    {
      "cell_type": "markdown",
      "metadata": {
        "id": "kqFfOOOqLIAM",
        "colab_type": "text"
      },
      "source": [
        "#### Import lib"
      ]
    },
    {
      "cell_type": "code",
      "metadata": {
        "id": "s--v2xsrLOLi",
        "colab_type": "code",
        "colab": {}
      },
      "source": [
        "from __future__ import print_function\n",
        "import keras\n",
        "from keras.datasets import mnist\n",
        "from keras.models import Sequential\n",
        "from keras.layers import Dense, Dropout, Flatten\n",
        "from keras.layers import Conv2D, MaxPooling2D, AvgPool2D\n",
        "from keras import backend as K\n",
        "import matplotlib.pyplot as plt\n",
        "import numpy as np"
      ],
      "execution_count": 0,
      "outputs": []
    },
    {
      "cell_type": "markdown",
      "metadata": {
        "id": "fgo5jIyptGWM",
        "colab_type": "text"
      },
      "source": [
        "#### Download data"
      ]
    },
    {
      "cell_type": "code",
      "metadata": {
        "id": "s8prMK1PtILO",
        "colab_type": "code",
        "colab": {}
      },
      "source": [
        "num_classes = 10\n",
        "\n",
        "# input image dimensions\n",
        "img_rows, img_cols = 28, 28\n",
        "\n",
        "# the data, split between train and test sets\n",
        "(x_train, y_train), (x_test, y_test) = mnist.load_data()\n",
        "\n",
        "if K.image_data_format() == 'channels_first':\n",
        "    x_train = x_train.reshape(x_train.shape[0], 1, img_rows, img_cols)\n",
        "    x_test = x_test.reshape(x_test.shape[0], 1, img_rows, img_cols)\n",
        "    input_shape = (1, img_rows, img_cols)\n",
        "else:\n",
        "    x_train = x_train.reshape(x_train.shape[0], img_rows, img_cols, 1)\n",
        "    x_test = x_test.reshape(x_test.shape[0], img_rows, img_cols, 1)\n",
        "    input_shape = (img_rows, img_cols, 1)\n",
        "\n",
        "# get raw label for visualize data\n",
        "raw_y_train = y_train.copy()\n",
        "raw_y_test = y_test.copy()\n",
        "\n",
        "# convert class vectors to binary class matrices\n",
        "y_train = keras.utils.to_categorical(y_train, num_classes)\n",
        "y_test = keras.utils.to_categorical(y_test, num_classes)"
      ],
      "execution_count": 0,
      "outputs": []
    },
    {
      "cell_type": "markdown",
      "metadata": {
        "id": "si-6hLkctMsz",
        "colab_type": "text"
      },
      "source": [
        "#### Visualize data"
      ]
    },
    {
      "cell_type": "code",
      "metadata": {
        "id": "lpkmmhNgtOhB",
        "colab_type": "code",
        "outputId": "5db2a96b-9236-4506-ab87-92c7e308653e",
        "colab": {
          "base_uri": "https://localhost:8080/",
          "height": 485
        }
      },
      "source": [
        "figure = plt.figure(figsize=(20, 8))\n",
        "for i, index in enumerate(np.random.choice(x_train.shape[0], size=15, replace=False)):\n",
        "    ax = figure.add_subplot(3, 5, i + 1, xticks=[], yticks=[])\n",
        "    # Display each image\n",
        "    ax.imshow(np.squeeze(x_train[index].reshape(28, 28)))\n",
        "    # Set the title for each image\n",
        "    ax.set_title(\"{}\".format(raw_y_train[index]))"
      ],
      "execution_count": 0,
      "outputs": [
        {
          "output_type": "display_data",
          "data": {
            "image/png": "[encoded data removed]",
            "text/plain": [
              "<Figure size 1440x576 with 15 Axes>"
            ]
          },
          "metadata": {
            "tags": []
          }
        }
      ]
    },
    {
      "cell_type": "markdown",
      "metadata": {
        "id": "ZlyiTWKWtRPx",
        "colab_type": "text"
      },
      "source": [
        "#### Data normalization"
      ]
    },
    {
      "cell_type": "code",
      "metadata": {
        "id": "qOcFn40wtf2x",
        "colab_type": "code",
        "outputId": "b63e58b4-7b15-4237-a795-192f79d90f97",
        "colab": {
          "base_uri": "https://localhost:8080/",
          "height": 71
        }
      },
      "source": [
        "x_train = x_train.astype('float32')\n",
        "x_test = x_test.astype('float32')\n",
        "x_train /= 255\n",
        "x_test /= 255\n",
        "print('x_train shape:', x_train.shape)\n",
        "print(x_train.shape[0], 'train samples')\n",
        "print(x_test.shape[0], 'test samples')"
      ],
      "execution_count": 0,
      "outputs": [
        {
          "output_type": "stream",
          "text": [
            "x_train shape: (60000, 28, 28, 1)\n",
            "60000 train samples\n",
            "10000 test samples\n"
          ],
          "name": "stdout"
        }
      ]
    },
    {
      "cell_type": "markdown",
      "metadata": {
        "id": "lgB9uWi6Lq-Q",
        "colab_type": "text"
      },
      "source": [
        "#### Build model"
      ]
    },
    {
      "cell_type": "code",
      "metadata": {
        "id": "RCm_M-lwLt1C",
        "colab_type": "code",
        "colab": {}
      },
      "source": [
        "def LeNet5(input_shape, num_classes):\n",
        "  model = Sequential()\n",
        "  model.add(Conv2D(6, kernel_size=(5, 5), activation='sigmoid', input_shape=input_shape))\n",
        "  model.add(AvgPool2D(pool_size=2, strides=2))\n",
        "  model.add(Conv2D(16, kernel_size=(5, 5), activation='sigmoid'))\n",
        "  model.add(AvgPool2D(pool_size=2, strides=2))\n",
        "  model.add(Flatten())\n",
        "  model.add(Dense(120, activation='sigmoid'))\n",
        "  model.add(Dense(84, activation='sigmoid'))\n",
        "  model.add(Dense(num_classes, activation='softmax'))\n",
        "\n",
        "  # Summary model\n",
        "  model.summary()\n",
        "\n",
        "  return model\n",
        "  \n",
        "model = LeNet5(input_shape, num_classes)"
      ],
      "execution_count": 0,
      "outputs": []
    },
    {
      "cell_type": "markdown",
      "metadata": {
        "id": "nOXj30XsMU-s",
        "colab_type": "text"
      },
      "source": [
        "#### Training"
      ]
    },
    {
      "cell_type": "code",
      "metadata": {
        "id": "h44F3jrJMWKi",
        "colab_type": "code",
        "outputId": "6bf21760-b944-4e99-8061-6fef26261a3e",
        "colab": {
          "base_uri": "https://localhost:8080/",
          "height": 919
        }
      },
      "source": [
        "model.compile(loss=keras.losses.categorical_crossentropy,\n",
        "              optimizer=keras.optimizers.Adadelta(),\n",
        "              metrics=['accuracy'])\n",
        "\n",
        "epochs = 12\n",
        "batch_size = 128\n",
        "\n",
        "model.fit(x_train, y_train,\n",
        "          batch_size=batch_size,\n",
        "          epochs=epochs,\n",
        "          verbose=1,\n",
        "          validation_data=(x_test, y_test))"
      ],
      "execution_count": 0,
      "outputs": [
        {
          "output_type": "stream",
          "text": [
            "WARNING:tensorflow:From /usr/local/lib/python3.6/dist-packages/keras/optimizers.py:793: The name tf.train.Optimizer is deprecated. Please use tf.compat.v1.train.Optimizer instead.\n",
            "\n",
            "WARNING:tensorflow:From /usr/local/lib/python3.6/dist-packages/keras/backend/tensorflow_backend.py:3576: The name tf.log is deprecated. Please use tf.math.log instead.\n",
            "\n",
            "WARNING:tensorflow:From /usr/local/lib/python3.6/dist-packages/tensorflow_core/python/ops/math_grad.py:1424: where (from tensorflow.python.ops.array_ops) is deprecated and will be removed in a future version.\n",
            "Instructions for updating:\n",
            "Use tf.where in 2.0, which has the same broadcast rule as np.where\n",
            "WARNING:tensorflow:From /usr/local/lib/python3.6/dist-packages/keras/backend/tensorflow_backend.py:1033: The name tf.assign_add is deprecated. Please use tf.compat.v1.assign_add instead.\n",
            "\n",
            "WARNING:tensorflow:From /usr/local/lib/python3.6/dist-packages/keras/backend/tensorflow_backend.py:1020: The name tf.assign is deprecated. Please use tf.compat.v1.assign instead.\n",
            "\n",
            "WARNING:tensorflow:From /usr/local/lib/python3.6/dist-packages/keras/backend/tensorflow_backend.py:3005: The name tf.Session is deprecated. Please use tf.compat.v1.Session instead.\n",
            "\n",
            "Train on 60000 samples, validate on 10000 samples\n",
            "Epoch 1/12\n",
            "WARNING:tensorflow:From /usr/local/lib/python3.6/dist-packages/keras/backend/tensorflow_backend.py:190: The name tf.get_default_session is deprecated. Please use tf.compat.v1.get_default_session instead.\n",
            "\n",
            "WARNING:tensorflow:From /usr/local/lib/python3.6/dist-packages/keras/backend/tensorflow_backend.py:197: The name tf.ConfigProto is deprecated. Please use tf.compat.v1.ConfigProto instead.\n",
            "\n",
            "WARNING:tensorflow:From /usr/local/lib/python3.6/dist-packages/keras/backend/tensorflow_backend.py:207: The name tf.global_variables is deprecated. Please use tf.compat.v1.global_variables instead.\n",
            "\n",
            "WARNING:tensorflow:From /usr/local/lib/python3.6/dist-packages/keras/backend/tensorflow_backend.py:216: The name tf.is_variable_initialized is deprecated. Please use tf.compat.v1.is_variable_initialized instead.\n",
            "\n",
            "WARNING:tensorflow:From /usr/local/lib/python3.6/dist-packages/keras/backend/tensorflow_backend.py:223: The name tf.variables_initializer is deprecated. Please use tf.compat.v1.variables_initializer instead.\n",
            "\n",
            "60000/60000 [==============================] - 16s 274us/step - loss: 2.3057 - acc: 0.1072 - val_loss: 2.2896 - val_acc: 0.0974\n",
            "Epoch 2/12\n",
            "60000/60000 [==============================] - 2s 39us/step - loss: 1.1780 - acc: 0.6548 - val_loss: 0.4762 - val_acc: 0.8702\n",
            "Epoch 3/12\n",
            "60000/60000 [==============================] - 2s 40us/step - loss: 0.3822 - acc: 0.8895 - val_loss: 0.2954 - val_acc: 0.9145\n",
            "Epoch 4/12\n",
            "60000/60000 [==============================] - 2s 40us/step - loss: 0.2765 - acc: 0.9169 - val_loss: 0.2354 - val_acc: 0.9291\n",
            "Epoch 5/12\n",
            "60000/60000 [==============================] - 2s 39us/step - loss: 0.2195 - acc: 0.9342 - val_loss: 0.1948 - val_acc: 0.9409\n",
            "Epoch 6/12\n",
            "60000/60000 [==============================] - 2s 40us/step - loss: 0.1808 - acc: 0.9450 - val_loss: 0.1513 - val_acc: 0.9538\n",
            "Epoch 7/12\n",
            "60000/60000 [==============================] - 2s 41us/step - loss: 0.1523 - acc: 0.9540 - val_loss: 0.1305 - val_acc: 0.9595\n",
            "Epoch 8/12\n",
            "60000/60000 [==============================] - 2s 41us/step - loss: 0.1315 - acc: 0.9608 - val_loss: 0.1171 - val_acc: 0.9631\n",
            "Epoch 9/12\n",
            "60000/60000 [==============================] - 2s 41us/step - loss: 0.1163 - acc: 0.9649 - val_loss: 0.0965 - val_acc: 0.9694\n",
            "Epoch 10/12\n",
            "60000/60000 [==============================] - 2s 41us/step - loss: 0.1040 - acc: 0.9686 - val_loss: 0.0906 - val_acc: 0.9725\n",
            "Epoch 11/12\n",
            "60000/60000 [==============================] - 2s 41us/step - loss: 0.0941 - acc: 0.9712 - val_loss: 0.0913 - val_acc: 0.9718\n",
            "Epoch 12/12\n",
            "60000/60000 [==============================] - 2s 40us/step - loss: 0.0858 - acc: 0.9733 - val_loss: 0.0744 - val_acc: 0.9753\n"
          ],
          "name": "stdout"
        },
        {
          "output_type": "execute_result",
          "data": {
            "text/plain": [
              "<keras.callbacks.History at 0x7fc8be163cc0>"
            ]
          },
          "metadata": {
            "tags": []
          },
          "execution_count": 16
        }
      ]
    },
    {
      "cell_type": "markdown",
      "metadata": {
        "id": "uXPzWAu2MaXx",
        "colab_type": "text"
      },
      "source": [
        "#### Evaluation"
      ]
    },
    {
      "cell_type": "code",
      "metadata": {
        "id": "rV_xrCeBMbjz",
        "colab_type": "code",
        "outputId": "9424c18f-6090-466b-c449-a325e7ea4706",
        "colab": {
          "base_uri": "https://localhost:8080/",
          "height": 71
        }
      },
      "source": [
        "score = model.evaluate(x_test, y_test, verbose=1)\n",
        "print('Test loss:', score[0])\n",
        "print('Test accuracy:', score[1])"
      ],
      "execution_count": 0,
      "outputs": [
        {
          "output_type": "stream",
          "text": [
            "10000/10000 [==============================] - 0s 42us/step\n",
            "Test loss: 0.10412168994396925\n",
            "Test accuracy: 0.9666\n"
          ],
          "name": "stdout"
        }
      ]
    },
    {
      "cell_type": "markdown",
      "metadata": {
        "id": "CI5cKkyZxZiS",
        "colab_type": "text"
      },
      "source": [
        "#### Visualize prediction"
      ]
    },
    {
      "cell_type": "code",
      "metadata": {
        "id": "LFa_gI6pxcEp",
        "colab_type": "code",
        "outputId": "005bdb77-75ea-4aed-a622-3bdeb99c2362",
        "colab": {
          "base_uri": "https://localhost:8080/",
          "height": 485
        }
      },
      "source": [
        "y_hat = model.predict(x_test)\n",
        "figure = plt.figure(figsize=(20, 8))\n",
        "for i, index in enumerate(np.random.choice(x_test.shape[0], size=15, replace=False)):\n",
        "    ax = figure.add_subplot(3, 5, i + 1, xticks=[], yticks=[])\n",
        "    # Display each image\n",
        "    ax.imshow(np.squeeze(x_test[index]))\n",
        "    predict_index = np.argmax(y_hat[index])\n",
        "    true_index = np.argmax(y_test[index])\n",
        "    # Set the title for each image\n",
        "    ax.set_title(\"{} ({})\".format(predict_index, \n",
        "                                  true_index),\n",
        "                                  color=(\"green\" if predict_index == true_index else \"red\"))"
      ],
      "execution_count": 0,
      "outputs": [
        {
          "output_type": "display_data",
          "data": {
            "image/png": "[encoded data removed]",
            "text/plain": [
              "<Figure size 1440x576 with 15 Axes>"
            ]
          },
          "metadata": {
            "tags": []
          }
        }
      ]
    },
    {
      "cell_type": "code",
      "metadata": {
        "id": "lci1oEPzylq7",
        "colab_type": "code",
        "colab": {}
      },
      "source": [
        ""
      ],
      "execution_count": 0,
      "outputs": []
    }
  ]
}